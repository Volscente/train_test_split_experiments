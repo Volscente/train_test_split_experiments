{
 "cells": [
  {
   "cell_type": "markdown",
   "id": "6caa76a4-e29e-4031-a8ad-8c1a12714bc6",
   "metadata": {},
   "source": [
    "# Introduction\n",
    "\n",
    "The notebook is intended to experiment with different train-test split methods."
   ]
  },
  {
   "cell_type": "code",
   "execution_count": 1,
   "id": "ee379a4e-d5a6-41c9-a81f-6023a1274679",
   "metadata": {},
   "outputs": [],
   "source": [
    "import numpy as np\n",
    "\n",
    "from sklearn.model_selection import ShuffleSplit, KFold"
   ]
  },
  {
   "cell_type": "markdown",
   "id": "83f466bd-e778-47d5-8a26-ab8fd557bf4f",
   "metadata": {},
   "source": [
    "# Define Data"
   ]
  },
  {
   "cell_type": "code",
   "execution_count": 2,
   "id": "95bb32ce-a59c-4d0c-806e-6f6befde9ff5",
   "metadata": {},
   "outputs": [],
   "source": [
    "# Define dataset and labels\n",
    "X = np.arange(1, 11, 1)\n",
    "y = np.random.randint(0, 2, 10)"
   ]
  },
  {
   "cell_type": "markdown",
   "id": "83534c4d-7251-4e6b-a39f-6c28ebbe151a",
   "metadata": {},
   "source": [
    "# Train-Test Split"
   ]
  },
  {
   "cell_type": "markdown",
   "id": "27d5cfff-4309-461d-8655-a2b9ca33f995",
   "metadata": {},
   "source": [
    "## Shuffle Split\n",
    "\n",
    "The dataset is shuffled every time before creating each split. This method does not guarantee that all folds will be different."
   ]
  },
  {
   "cell_type": "code",
   "execution_count": 3,
   "id": "7e11cc13-e2e3-47ba-b0d3-62d5eae7b307",
   "metadata": {},
   "outputs": [],
   "source": [
    "# Define the Splitter\n",
    "shuffle_splitter = ShuffleSplit(n_splits=5,\n",
    "                                test_size=.2,\n",
    "                                random_state=0)"
   ]
  },
  {
   "cell_type": "code",
   "execution_count": 4,
   "id": "2a6354e6-27f4-4bc3-8342-2d339c04cf50",
   "metadata": {},
   "outputs": [
    {
     "name": "stdout",
     "output_type": "stream",
     "text": [
      "Train Features: [ 5 10  2  7  8  4  1  6]\n",
      "Train Labels: [0 0 0 0 0 1 1 0]\n",
      "Test Features: [3 9]\n",
      "Test Labels: [0 0]\n",
      "\n",
      "\n",
      "Train Features: [ 2  3 10  9  1  7  8  5]\n",
      "Train Labels: [0 0 0 0 1 0 0 0]\n",
      "Test Features: [4 6]\n",
      "Test Labels: [1 0]\n",
      "\n",
      "\n",
      "Train Features: [ 9  5  6  2  1  7 10  8]\n",
      "Train Labels: [0 0 0 0 1 0 0 0]\n",
      "Test Features: [3 4]\n",
      "Test Labels: [0 1]\n",
      "\n",
      "\n",
      "Train Features: [10  3  8  6  9  1  4  5]\n",
      "Train Labels: [0 0 0 0 0 1 1 0]\n",
      "Test Features: [7 2]\n",
      "Test Labels: [0 0]\n",
      "\n",
      "\n",
      "Train Features: [ 8  5  2  1  7  9 10  4]\n",
      "Train Labels: [0 0 0 1 0 0 0 1]\n",
      "Test Features: [6 3]\n",
      "Test Labels: [0 0]\n",
      "\n",
      "\n"
     ]
    }
   ],
   "source": [
    "# Perform the Split\n",
    "for train, test in shuffle_splitter.split(X, y):\n",
    "\n",
    "    print(\"Train Features: \" + str(X[train]))\n",
    "    print(\"Train Labels: \" + str(y[train]))\n",
    "    print(\"Test Features: \" + str(X[test]))\n",
    "    print(\"Test Labels: \" + str(y[test]))\n",
    "    print(\"\\n\")"
   ]
  },
  {
   "cell_type": "markdown",
   "id": "68de0ce0-1b50-4041-b74c-3bdb9dd65948",
   "metadata": {},
   "source": [
    "This solution is not really good while handling imbalanced classes, since the proportion between the classes can ben 100%-0%."
   ]
  },
  {
   "cell_type": "markdown",
   "id": "f6d5c4df-b652-4093-9deb-40149cd6f9a5",
   "metadata": {},
   "source": [
    "## KFold\n",
    "\n",
    "Split dataset into k consecutive folds (without shuffling by default).\n",
    "\n",
    "Each fold is then used once as a validation while the k - 1 remaining folds form the training set."
   ]
  },
  {
   "cell_type": "code",
   "execution_count": null,
   "id": "a8e74a08-1394-4db4-879f-0b2ece7d74dd",
   "metadata": {},
   "outputs": [],
   "source": []
  }
 ],
 "metadata": {
  "kernelspec": {
   "display_name": "Python 3 (ipykernel)",
   "language": "python",
   "name": "python3"
  },
  "language_info": {
   "codemirror_mode": {
    "name": "ipython",
    "version": 3
   },
   "file_extension": ".py",
   "mimetype": "text/x-python",
   "name": "python",
   "nbconvert_exporter": "python",
   "pygments_lexer": "ipython3",
   "version": "3.8.12"
  }
 },
 "nbformat": 4,
 "nbformat_minor": 5
}
