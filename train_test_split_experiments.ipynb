{
 "cells": [
  {
   "cell_type": "markdown",
   "id": "6caa76a4-e29e-4031-a8ad-8c1a12714bc6",
   "metadata": {},
   "source": [
    "# Introduction\n",
    "\n",
    "The notebook is intended to experiment with different train-test split methods."
   ]
  },
  {
   "cell_type": "code",
   "execution_count": null,
   "id": "ee379a4e-d5a6-41c9-a81f-6023a1274679",
   "metadata": {},
   "outputs": [],
   "source": [
    "import numpy as np\n",
    "\n",
    "from sklearn.model_selection import ShuffleSplit"
   ]
  },
  {
   "cell_type": "markdown",
   "id": "83f466bd-e778-47d5-8a26-ab8fd557bf4f",
   "metadata": {},
   "source": [
    "# Define Data"
   ]
  },
  {
   "cell_type": "code",
   "execution_count": null,
   "id": "95bb32ce-a59c-4d0c-806e-6f6befde9ff5",
   "metadata": {},
   "outputs": [],
   "source": [
    "# Define dataset and labels\n",
    "X = np.arange(1, 11, 1)\n",
    "y = np.random.randint(0, 2, 10)"
   ]
  },
  {
   "cell_type": "markdown",
   "id": "83534c4d-7251-4e6b-a39f-6c28ebbe151a",
   "metadata": {},
   "source": [
    "# Train-Test Split"
   ]
  },
  {
   "cell_type": "markdown",
   "id": "27d5cfff-4309-461d-8655-a2b9ca33f995",
   "metadata": {},
   "source": [
    "## Shuffle Split\n",
    "\n",
    "The dataset is shuffled every time before creating "
   ]
  },
  {
   "cell_type": "code",
   "execution_count": null,
   "id": "7e11cc13-e2e3-47ba-b0d3-62d5eae7b307",
   "metadata": {},
   "outputs": [],
   "source": [
    "# Define the Splitter\n",
    "shuffle_splitter = ShuffleSplit(n_splits=5,\n",
    "                                test_size=.2,\n",
    "                                random_state=0)"
   ]
  },
  {
   "cell_type": "code",
   "execution_count": null,
   "id": "fe1989ac-da1c-4963-9f81-4f3d83c63e72",
   "metadata": {},
   "outputs": [],
   "source": [
    "# Perform the Split\n",
    "for train, test in shuffle_splitter.split(X, y):\n",
    "    print(X[train])\n",
    "    print(X[test])"
   ]
  }
 ],
 "metadata": {
  "kernelspec": {
   "display_name": "Python 3 (ipykernel)",
   "language": "python",
   "name": "python3"
  },
  "language_info": {
   "codemirror_mode": {
    "name": "ipython",
    "version": 3
   },
   "file_extension": ".py",
   "mimetype": "text/x-python",
   "name": "python",
   "nbconvert_exporter": "python",
   "pygments_lexer": "ipython3",
   "version": "3.8.12"
  }
 },
 "nbformat": 4,
 "nbformat_minor": 5
}
