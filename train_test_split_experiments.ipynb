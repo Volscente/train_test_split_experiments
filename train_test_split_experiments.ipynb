{
 "cells": [
  {
   "cell_type": "markdown",
   "id": "6caa76a4-e29e-4031-a8ad-8c1a12714bc6",
   "metadata": {},
   "source": [
    "# Introduction\n",
    "\n",
    "The notebook is intended to experiment with different train-test split methods."
   ]
  },
  {
   "cell_type": "code",
   "execution_count": 19,
   "id": "ee379a4e-d5a6-41c9-a81f-6023a1274679",
   "metadata": {},
   "outputs": [],
   "source": [
    "import numpy as np\n",
    "\n",
    "from sklearn.model_selection import ShuffleSplit, KFold, StratifiedKFold, StratifiedShuffleSplit"
   ]
  },
  {
   "cell_type": "markdown",
   "id": "83f466bd-e778-47d5-8a26-ab8fd557bf4f",
   "metadata": {},
   "source": [
    "# Define Data"
   ]
  },
  {
   "cell_type": "code",
   "execution_count": 9,
   "id": "95bb32ce-a59c-4d0c-806e-6f6befde9ff5",
   "metadata": {},
   "outputs": [],
   "source": [
    "# Define dataset and labels\n",
    "x = np.arange(1, 11, 1)\n",
    "y = np.random.randint(0, 2, 10)"
   ]
  },
  {
   "cell_type": "markdown",
   "id": "83534c4d-7251-4e6b-a39f-6c28ebbe151a",
   "metadata": {},
   "source": [
    "# Train-Test Split"
   ]
  },
  {
   "cell_type": "code",
   "execution_count": 7,
   "id": "7f869dc7-7e37-4d59-9cb8-5cae6244b27b",
   "metadata": {},
   "outputs": [],
   "source": [
    "# Define a function for showing splits\n",
    "def show_splits(splitter, x, y):\n",
    "    \n",
    "    # Perform the Split\n",
    "    for train, test in splitter.split(x, y):\n",
    "\n",
    "        print(\"Train Features: \" + str(X[train]))\n",
    "        print(\"Train Labels: \" + str(y[train]))\n",
    "        print(\"Test Features: \" + str(X[test]))\n",
    "        print(\"Test Labels: \" + str(y[test]))\n",
    "        print(\"\\n\")"
   ]
  },
  {
   "cell_type": "markdown",
   "id": "27d5cfff-4309-461d-8655-a2b9ca33f995",
   "metadata": {},
   "source": [
    "## Shuffle Split\n",
    "\n",
    "The dataset is shuffled every time before creating each split. This method does not guarantee that all folds will be different."
   ]
  },
  {
   "cell_type": "code",
   "execution_count": 10,
   "id": "7e11cc13-e2e3-47ba-b0d3-62d5eae7b307",
   "metadata": {},
   "outputs": [
    {
     "name": "stdout",
     "output_type": "stream",
     "text": [
      "Train Features: [ 5 10  2  7  8  4  1  6]\n",
      "Train Labels: [0 1 0 0 1 0 0 1]\n",
      "Test Features: [3 9]\n",
      "Test Labels: [0 1]\n",
      "\n",
      "\n",
      "Train Features: [ 2  3 10  9  1  7  8  5]\n",
      "Train Labels: [0 0 1 1 0 0 1 0]\n",
      "Test Features: [4 6]\n",
      "Test Labels: [0 1]\n",
      "\n",
      "\n",
      "Train Features: [ 9  5  6  2  1  7 10  8]\n",
      "Train Labels: [1 0 1 0 0 0 1 1]\n",
      "Test Features: [3 4]\n",
      "Test Labels: [0 0]\n",
      "\n",
      "\n",
      "Train Features: [10  3  8  6  9  1  4  5]\n",
      "Train Labels: [1 0 1 1 1 0 0 0]\n",
      "Test Features: [7 2]\n",
      "Test Labels: [0 0]\n",
      "\n",
      "\n",
      "Train Features: [ 8  5  2  1  7  9 10  4]\n",
      "Train Labels: [1 0 0 0 0 1 1 0]\n",
      "Test Features: [6 3]\n",
      "Test Labels: [1 0]\n",
      "\n",
      "\n"
     ]
    }
   ],
   "source": [
    "# Define the Splitter\n",
    "shuffle_splitter = ShuffleSplit(n_splits=5,\n",
    "                                test_size=.2,\n",
    "                                random_state=0)\n",
    "\n",
    "show_splits(shuffle_splitter, x, y)"
   ]
  },
  {
   "cell_type": "markdown",
   "id": "68de0ce0-1b50-4041-b74c-3bdb9dd65948",
   "metadata": {},
   "source": [
    "This solution is not really good while handling imbalanced classes, since the proportion between the classes can ben 100%-0%."
   ]
  },
  {
   "cell_type": "markdown",
   "id": "f6d5c4df-b652-4093-9deb-40149cd6f9a5",
   "metadata": {},
   "source": [
    "## KFold\n",
    "\n",
    "Split dataset into k consecutive folds (without shuffling by default).\n",
    "\n",
    "Each fold is then used once as a validation while the k - 1 remaining folds form the training set."
   ]
  },
  {
   "cell_type": "code",
   "execution_count": 12,
   "id": "a8e74a08-1394-4db4-879f-0b2ece7d74dd",
   "metadata": {},
   "outputs": [
    {
     "name": "stdout",
     "output_type": "stream",
     "text": [
      "Train Features: [ 3  4  5  6  7  8  9 10]\n",
      "Train Labels: [0 0 0 1 0 1 1 1]\n",
      "Test Features: [1 2]\n",
      "Test Labels: [0 0]\n",
      "\n",
      "\n",
      "Train Features: [ 1  2  5  6  7  8  9 10]\n",
      "Train Labels: [0 0 0 1 0 1 1 1]\n",
      "Test Features: [3 4]\n",
      "Test Labels: [0 0]\n",
      "\n",
      "\n",
      "Train Features: [ 1  2  3  4  7  8  9 10]\n",
      "Train Labels: [0 0 0 0 0 1 1 1]\n",
      "Test Features: [5 6]\n",
      "Test Labels: [0 1]\n",
      "\n",
      "\n",
      "Train Features: [ 1  2  3  4  5  6  9 10]\n",
      "Train Labels: [0 0 0 0 0 1 1 1]\n",
      "Test Features: [7 8]\n",
      "Test Labels: [0 1]\n",
      "\n",
      "\n",
      "Train Features: [1 2 3 4 5 6 7 8]\n",
      "Train Labels: [0 0 0 0 0 1 0 1]\n",
      "Test Features: [ 9 10]\n",
      "Test Labels: [1 1]\n",
      "\n",
      "\n"
     ]
    }
   ],
   "source": [
    "# Define the Splitter\n",
    "kfold = KFold(n_splits=5)\n",
    "\n",
    "show_splits(kfold, x, y)"
   ]
  },
  {
   "cell_type": "markdown",
   "id": "9716d085-3bf6-484c-b9fd-f252468dfa70",
   "metadata": {},
   "source": [
    "## StratifiedKFold\n",
    "\n",
    "This cross-validation object is a variation of KFold that returns stratified folds. The folds are made by preserving the percentage of samples for each class. Best solution for imbalanced class split."
   ]
  },
  {
   "cell_type": "code",
   "execution_count": 16,
   "id": "26aeb23c-99f7-44e2-8c68-75296d445137",
   "metadata": {},
   "outputs": [
    {
     "name": "stdout",
     "output_type": "stream",
     "text": [
      "Train Features: [ 3  4  5  7  8  9 10]\n",
      "Train Labels: [0 0 0 0 1 1 1]\n",
      "Test Features: [1 2 6]\n",
      "Test Labels: [0 0 1]\n",
      "\n",
      "\n",
      "Train Features: [ 1  2  5  6  7  9 10]\n",
      "Train Labels: [0 0 0 1 0 1 1]\n",
      "Test Features: [3 4 8]\n",
      "Test Labels: [0 0 1]\n",
      "\n",
      "\n",
      "Train Features: [ 1  2  3  4  6  7  8 10]\n",
      "Train Labels: [0 0 0 0 1 0 1 1]\n",
      "Test Features: [5 9]\n",
      "Test Labels: [0 1]\n",
      "\n",
      "\n",
      "Train Features: [1 2 3 4 5 6 8 9]\n",
      "Train Labels: [0 0 0 0 0 1 1 1]\n",
      "Test Features: [ 7 10]\n",
      "Test Labels: [0 1]\n",
      "\n",
      "\n"
     ]
    }
   ],
   "source": [
    "# Define the Splitter\n",
    "stratified_kfold = StratifiedKFold(n_splits=4, shuffle=False)\n",
    "\n",
    "show_splits(stratified_kfold, x, y)"
   ]
  },
  {
   "cell_type": "markdown",
   "id": "994b886c-6b93-484b-9dc9-3bff2fac6cc9",
   "metadata": {},
   "source": [
    "## StratifiedShuffleSplit\n",
    "\n",
    "This cross-validation object is a merge of StratifiedKFold and ShuffleSplit, which returns stratified randomized folds. The folds are made by preserving the percentage of samples for each class.\n",
    "\n",
    "Note: like the ShuffleSplit strategy, stratified random splits do not guarantee that all folds will be different, although this is still very likely for sizeable datasets."
   ]
  },
  {
   "cell_type": "code",
   "execution_count": 20,
   "id": "3c5808f7-6228-4814-ac4d-8c37a510d48c",
   "metadata": {},
   "outputs": [
    {
     "ename": "ValueError",
     "evalue": "The test_size = 1 should be greater or equal to the number of classes = 2",
     "output_type": "error",
     "traceback": [
      "\u001b[0;31m---------------------------------------------------------------------------\u001b[0m",
      "\u001b[0;31mValueError\u001b[0m                                Traceback (most recent call last)",
      "Input \u001b[0;32mIn [20]\u001b[0m, in \u001b[0;36m<module>\u001b[0;34m\u001b[0m\n\u001b[1;32m      1\u001b[0m \u001b[38;5;66;03m# Define the Splitter\u001b[39;00m\n\u001b[1;32m      2\u001b[0m stratified_kfold \u001b[38;5;241m=\u001b[39m StratifiedShuffleSplit(n_splits\u001b[38;5;241m=\u001b[39m\u001b[38;5;241m4\u001b[39m)\n\u001b[0;32m----> 4\u001b[0m \u001b[43mshow_splits\u001b[49m\u001b[43m(\u001b[49m\u001b[43mstratified_kfold\u001b[49m\u001b[43m,\u001b[49m\u001b[43m \u001b[49m\u001b[43mx\u001b[49m\u001b[43m,\u001b[49m\u001b[43m \u001b[49m\u001b[43my\u001b[49m\u001b[43m)\u001b[49m\n",
      "Input \u001b[0;32mIn [7]\u001b[0m, in \u001b[0;36mshow_splits\u001b[0;34m(splitter, x, y)\u001b[0m\n\u001b[1;32m      2\u001b[0m \u001b[38;5;28;01mdef\u001b[39;00m \u001b[38;5;21mshow_splits\u001b[39m(splitter, x, y):\n\u001b[1;32m      3\u001b[0m     \n\u001b[1;32m      4\u001b[0m     \u001b[38;5;66;03m# Perform the Split\u001b[39;00m\n\u001b[0;32m----> 5\u001b[0m     \u001b[38;5;28;01mfor\u001b[39;00m train, test \u001b[38;5;129;01min\u001b[39;00m splitter\u001b[38;5;241m.\u001b[39msplit(x, y):\n\u001b[1;32m      7\u001b[0m         \u001b[38;5;28mprint\u001b[39m(\u001b[38;5;124m\"\u001b[39m\u001b[38;5;124mTrain Features: \u001b[39m\u001b[38;5;124m\"\u001b[39m \u001b[38;5;241m+\u001b[39m \u001b[38;5;28mstr\u001b[39m(X[train]))\n\u001b[1;32m      8\u001b[0m         \u001b[38;5;28mprint\u001b[39m(\u001b[38;5;124m\"\u001b[39m\u001b[38;5;124mTrain Labels: \u001b[39m\u001b[38;5;124m\"\u001b[39m \u001b[38;5;241m+\u001b[39m \u001b[38;5;28mstr\u001b[39m(y[train]))\n",
      "File \u001b[0;32m~/opt/anaconda3/envs/uc2_mobility/lib/python3.8/site-packages/sklearn/model_selection/_split.py:1600\u001b[0m, in \u001b[0;36mBaseShuffleSplit.split\u001b[0;34m(self, X, y, groups)\u001b[0m\n\u001b[1;32m   1570\u001b[0m \u001b[38;5;124;03m\"\"\"Generate indices to split data into training and test set.\u001b[39;00m\n\u001b[1;32m   1571\u001b[0m \n\u001b[1;32m   1572\u001b[0m \u001b[38;5;124;03mParameters\u001b[39;00m\n\u001b[0;32m   (...)\u001b[0m\n\u001b[1;32m   1597\u001b[0m \u001b[38;5;124;03mto an integer.\u001b[39;00m\n\u001b[1;32m   1598\u001b[0m \u001b[38;5;124;03m\"\"\"\u001b[39;00m\n\u001b[1;32m   1599\u001b[0m X, y, groups \u001b[38;5;241m=\u001b[39m indexable(X, y, groups)\n\u001b[0;32m-> 1600\u001b[0m \u001b[38;5;28;01mfor\u001b[39;00m train, test \u001b[38;5;129;01min\u001b[39;00m \u001b[38;5;28mself\u001b[39m\u001b[38;5;241m.\u001b[39m_iter_indices(X, y, groups):\n\u001b[1;32m   1601\u001b[0m     \u001b[38;5;28;01myield\u001b[39;00m train, test\n",
      "File \u001b[0;32m~/opt/anaconda3/envs/uc2_mobility/lib/python3.8/site-packages/sklearn/model_selection/_split.py:1953\u001b[0m, in \u001b[0;36mStratifiedShuffleSplit._iter_indices\u001b[0;34m(self, X, y, groups)\u001b[0m\n\u001b[1;32m   1948\u001b[0m     \u001b[38;5;28;01mraise\u001b[39;00m \u001b[38;5;167;01mValueError\u001b[39;00m(\n\u001b[1;32m   1949\u001b[0m         \u001b[38;5;124m\"\u001b[39m\u001b[38;5;124mThe train_size = \u001b[39m\u001b[38;5;132;01m%d\u001b[39;00m\u001b[38;5;124m should be greater or \u001b[39m\u001b[38;5;124m\"\u001b[39m\n\u001b[1;32m   1950\u001b[0m         \u001b[38;5;124m\"\u001b[39m\u001b[38;5;124mequal to the number of classes = \u001b[39m\u001b[38;5;132;01m%d\u001b[39;00m\u001b[38;5;124m\"\u001b[39m \u001b[38;5;241m%\u001b[39m (n_train, n_classes)\n\u001b[1;32m   1951\u001b[0m     )\n\u001b[1;32m   1952\u001b[0m \u001b[38;5;28;01mif\u001b[39;00m n_test \u001b[38;5;241m<\u001b[39m n_classes:\n\u001b[0;32m-> 1953\u001b[0m     \u001b[38;5;28;01mraise\u001b[39;00m \u001b[38;5;167;01mValueError\u001b[39;00m(\n\u001b[1;32m   1954\u001b[0m         \u001b[38;5;124m\"\u001b[39m\u001b[38;5;124mThe test_size = \u001b[39m\u001b[38;5;132;01m%d\u001b[39;00m\u001b[38;5;124m should be greater or \u001b[39m\u001b[38;5;124m\"\u001b[39m\n\u001b[1;32m   1955\u001b[0m         \u001b[38;5;124m\"\u001b[39m\u001b[38;5;124mequal to the number of classes = \u001b[39m\u001b[38;5;132;01m%d\u001b[39;00m\u001b[38;5;124m\"\u001b[39m \u001b[38;5;241m%\u001b[39m (n_test, n_classes)\n\u001b[1;32m   1956\u001b[0m     )\n\u001b[1;32m   1958\u001b[0m \u001b[38;5;66;03m# Find the sorted list of instances for each class:\u001b[39;00m\n\u001b[1;32m   1959\u001b[0m \u001b[38;5;66;03m# (np.unique above performs a sort, so code is O(n logn) already)\u001b[39;00m\n\u001b[1;32m   1960\u001b[0m class_indices \u001b[38;5;241m=\u001b[39m np\u001b[38;5;241m.\u001b[39msplit(\n\u001b[1;32m   1961\u001b[0m     np\u001b[38;5;241m.\u001b[39margsort(y_indices, kind\u001b[38;5;241m=\u001b[39m\u001b[38;5;124m\"\u001b[39m\u001b[38;5;124mmergesort\u001b[39m\u001b[38;5;124m\"\u001b[39m), np\u001b[38;5;241m.\u001b[39mcumsum(class_counts)[:\u001b[38;5;241m-\u001b[39m\u001b[38;5;241m1\u001b[39m]\n\u001b[1;32m   1962\u001b[0m )\n",
      "\u001b[0;31mValueError\u001b[0m: The test_size = 1 should be greater or equal to the number of classes = 2"
     ]
    }
   ],
   "source": [
    "# Define the Splitter\n",
    "stratified_kfold = StratifiedShuffleSplit(n_splits=4)\n",
    "\n",
    "show_splits(stratified_kfold, x, y)"
   ]
  },
  {
   "cell_type": "code",
   "execution_count": null,
   "id": "1a734420-f5df-4e5d-b60c-fb50ba371dd8",
   "metadata": {},
   "outputs": [],
   "source": []
  }
 ],
 "metadata": {
  "kernelspec": {
   "display_name": "Python 3 (ipykernel)",
   "language": "python",
   "name": "python3"
  },
  "language_info": {
   "codemirror_mode": {
    "name": "ipython",
    "version": 3
   },
   "file_extension": ".py",
   "mimetype": "text/x-python",
   "name": "python",
   "nbconvert_exporter": "python",
   "pygments_lexer": "ipython3",
   "version": "3.8.12"
  }
 },
 "nbformat": 4,
 "nbformat_minor": 5
}
